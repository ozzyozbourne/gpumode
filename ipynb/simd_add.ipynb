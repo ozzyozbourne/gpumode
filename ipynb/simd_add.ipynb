{
  "nbformat": 4,
  "nbformat_minor": 0,
  "metadata": {
    "colab": {
      "provenance": []
    },
    "kernelspec": {
      "name": "python3",
      "display_name": "Python 3"
    },
    "language_info": {
      "name": "python"
    }
  },
  "cells": [
    {
      "cell_type": "code",
      "execution_count": 4,
      "metadata": {
        "colab": {
          "base_uri": "https://localhost:8080/"
        },
        "id": "59ZQbYEvTBp8",
        "outputId": "fcc7b6a0-3eb2-4f0d-8a1d-63f150e71d63"
      },
      "outputs": [
        {
          "output_type": "stream",
          "name": "stdout",
          "text": [
            "Overwriting simd_add.c\n"
          ]
        }
      ],
      "source": [
        "%%writefile simd_add.c\n",
        "#include <immintrin.h>\n",
        "#include <stdio.h>\n",
        "\n",
        "int main() {\n",
        "    // Two vectors of 8 floats\n",
        "    __m256 a = _mm256_setr_ps(1.0f, 2.0f, 3.0f, 4.0f, 5.0f, 6.0f, 7.0f, 8.0f);\n",
        "    __m256 b = _mm256_setr_ps(10.0f, 20.0f, 30.0f, 40.0f, 50.0f, 60.0f, 70.0f, 80.0f);\n",
        "\n",
        "    // Add them: r = a + b (all 8 operations at once!)\n",
        "    __m256 r = _mm256_add_ps(a, b);\n",
        "\n",
        "     float a_array[8], b_array[8], out[8];\n",
        "\n",
        "    _mm256_storeu_ps(a_array, a);\n",
        "    _mm256_storeu_ps(b_array, b);\n",
        "    _mm256_storeu_ps(out, r);\n",
        "\n",
        "    printf(\"Vector addition:\\n\");\n",
        "    for (int i = 0; i < 8; i++) { printf(\"%.1f + %.1f = %.1f\\n\", a_array[i], b_array[i], out[i]); }\n",
        "\n",
        "    return 0;\n",
        "}"
      ]
    },
    {
      "cell_type": "code",
      "source": [
        "!gcc -O3 -Wall -Wextra -mavx2 -mfma -o simd_add simd_add.c\n",
        "!./simd_add"
      ],
      "metadata": {
        "colab": {
          "base_uri": "https://localhost:8080/"
        },
        "id": "QLAH-xkPTIU9",
        "outputId": "2a6e382e-cc24-429e-ae92-c4d5d8be2b75"
      },
      "execution_count": 6,
      "outputs": [
        {
          "output_type": "stream",
          "name": "stdout",
          "text": [
            "Vector addition:\n",
            "1.0 + 10.0 = 11.0\n",
            "2.0 + 20.0 = 22.0\n",
            "3.0 + 30.0 = 33.0\n",
            "4.0 + 40.0 = 44.0\n",
            "5.0 + 50.0 = 55.0\n",
            "6.0 + 60.0 = 66.0\n",
            "7.0 + 70.0 = 77.0\n",
            "8.0 + 80.0 = 88.0\n"
          ]
        }
      ]
    }
  ]
}