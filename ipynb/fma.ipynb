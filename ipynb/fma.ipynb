{
  "nbformat": 4,
  "nbformat_minor": 0,
  "metadata": {
    "colab": {
      "provenance": []
    },
    "kernelspec": {
      "name": "python3",
      "display_name": "Python 3"
    },
    "language_info": {
      "name": "python"
    }
  },
  "cells": [
    {
      "cell_type": "code",
      "execution_count": 7,
      "metadata": {
        "colab": {
          "base_uri": "https://localhost:8080/"
        },
        "id": "AU8ngJhsbuQQ",
        "outputId": "313c94de-abb5-4a0f-ffba-597975273208"
      },
      "outputs": [
        {
          "output_type": "stream",
          "name": "stdout",
          "text": [
            "Overwriting fma.c\n"
          ]
        }
      ],
      "source": [
        "%%writefile fma.c\n",
        "#include <immintrin.h>\n",
        "#include <stdio.h>\n",
        "\n",
        "int main() {\n",
        "    // 8 floats packed into one 256-bit YMM register\n",
        "    __m256 a = _mm256_set1_ps(2.0f);  // all elements = 2.0\n",
        "    __m256 b = _mm256_set1_ps(3.0f);  // all elements = 3.0\n",
        "    __m256 c = _mm256_set1_ps(4.0f);  // all elements = 4.0\n",
        "\n",
        "    // Perform FMA: (a * b) + c\n",
        "    __m256 r = _mm256_fmadd_ps(a, b, c);\n",
        "\n",
        "    // Store and print results\n",
        "    float out[8];\n",
        "    _mm256_storeu_ps(out, r);\n",
        "\n",
        "    for (size_t i = 0; i < 8; i++) { printf(\"r[%ld] = %f\\n\", i, out[i]); }\n",
        "\n",
        "    return 0;\n",
        "}"
      ]
    },
    {
      "cell_type": "code",
      "source": [
        "!gcc -O3 -Wall -Wextra -mavx2 -mfma -o fma fma.c\n",
        "!./fma\n"
      ],
      "metadata": {
        "colab": {
          "base_uri": "https://localhost:8080/"
        },
        "id": "kGEai_JjbzTq",
        "outputId": "0ae59ef6-ec93-472c-9085-eb9b437e1a24"
      },
      "execution_count": 8,
      "outputs": [
        {
          "output_type": "stream",
          "name": "stdout",
          "text": [
            "r[0] = 10.000000\n",
            "r[1] = 10.000000\n",
            "r[2] = 10.000000\n",
            "r[3] = 10.000000\n",
            "r[4] = 10.000000\n",
            "r[5] = 10.000000\n",
            "r[6] = 10.000000\n",
            "r[7] = 10.000000\n"
          ]
        }
      ]
    },
    {
      "cell_type": "code",
      "source": [
        "!objdump -d fma_test | grep -i fma\n"
      ],
      "metadata": {
        "colab": {
          "base_uri": "https://localhost:8080/"
        },
        "id": "eq1ffrqlcFxp",
        "outputId": "2e53f949-5f89-4eee-e97b-fae7b2bcf9a1"
      },
      "execution_count": 9,
      "outputs": [
        {
          "output_type": "stream",
          "name": "stdout",
          "text": [
            "fma_test:     file format elf64-x86-64\n",
            "    10cc:\tc4 e2 6d 98 05 4b 0f \tvfmadd132ps 0xf4b(%rip),%ymm2,%ymm0        # 2020 <_IO_stdin_used+0x20>\n"
          ]
        }
      ]
    }
  ]
}